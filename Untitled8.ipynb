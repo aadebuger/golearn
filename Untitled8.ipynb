{
 "cells": [
  {
   "cell_type": "code",
   "execution_count": 1,
   "metadata": {
    "ExecuteTime": {
     "end_time": "2021-12-07T10:14:29Z",
     "start_time": "2021-12-07T10:13:38.010Z"
    }
   },
   "outputs": [
    {
     "ename": "ERROR",
     "evalue": "error executing \"/usr/local/go/bin/go build -buildmode=plugin\" in directory \"/Users/aadebuger/go/src/gomacro.imports/github.com/beego/beego/v2/server/web/\": exit status 2",
     "output_type": "error",
     "traceback": [
      "error executing \"/usr/local/go/bin/go build -buildmode=plugin\" in directory \"/Users/aadebuger/go/src/gomacro.imports/github.com/beego/beego/v2/server/web/\": exit status 2"
     ]
    }
   ],
   "source": [
    "import \"github.com/beego/beego/v2/server/web\""
   ]
  },
  {
   "cell_type": "code",
   "execution_count": 2,
   "metadata": {
    "ExecuteTime": {
     "end_time": "2021-12-07T10:19:41Z",
     "start_time": "2021-12-07T10:19:20.064Z"
    }
   },
   "outputs": [],
   "source": [
    "import \"github.com/vulcand/oxy/forward\""
   ]
  },
  {
   "cell_type": "code",
   "execution_count": 3,
   "metadata": {
    "ExecuteTime": {
     "end_time": "2021-12-07T14:39:36Z",
     "start_time": "2021-12-07T14:39:00.285Z"
    }
   },
   "outputs": [],
   "source": [
    "import \"github.com/vulcand/oxy/roundrobin\""
   ]
  },
  {
   "cell_type": "code",
   "execution_count": 4,
   "metadata": {
    "ExecuteTime": {
     "end_time": "2021-12-07T23:25:39Z",
     "start_time": "2021-12-07T23:22:34.647Z"
    }
   },
   "outputs": [
    {
     "ename": "ERROR",
     "evalue": "error loading plugin \"/Users/aadebuger/go/src/gomacro.imports/go.mongodb.org/mongo-driver/mongo/mongo.so\": plugin.Open(\"/Users/aadebuger/go/src/gomacro.imports/go.mongodb.org/mongo-driver/mongo/mongo\"): plugin was built with a different version of package golang.org/x/sync/errgroup",
     "output_type": "error",
     "traceback": [
      "error loading plugin \"/Users/aadebuger/go/src/gomacro.imports/go.mongodb.org/mongo-driver/mongo/mongo.so\": plugin.Open(\"/Users/aadebuger/go/src/gomacro.imports/go.mongodb.org/mongo-driver/mongo/mongo\"): plugin was built with a different version of package golang.org/x/sync/errgroup"
     ]
    }
   ],
   "source": [
    "import (\n",
    "    \"go.mongodb.org/mongo-driver/mongo\"\n",
    "    \"go.mongodb.org/mongo-driver/mongo/options\"\n",
    "    \"go.mongodb.org/mongo-driver/mongo/readpref\"\n",
    ")\n"
   ]
  },
  {
   "cell_type": "code",
   "execution_count": 5,
   "metadata": {
    "ExecuteTime": {
     "end_time": "2021-12-07T23:27:42Z",
     "start_time": "2021-12-07T23:26:31.461Z"
    }
   },
   "outputs": [],
   "source": [
    "import \"github.com/go-playground/validator/v10\""
   ]
  },
  {
   "cell_type": "code",
   "execution_count": null,
   "metadata": {},
   "outputs": [],
   "source": []
  }
 ],
 "metadata": {
  "kernelspec": {
   "display_name": "Go",
   "language": "go",
   "name": "gophernotes"
  },
  "language_info": {
   "codemirror_mode": "",
   "file_extension": ".go",
   "mimetype": "",
   "name": "go",
   "nbconvert_exporter": "",
   "pygments_lexer": "",
   "version": "go1.17.3"
  }
 },
 "nbformat": 4,
 "nbformat_minor": 2
}
