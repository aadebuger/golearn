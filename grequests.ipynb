{
 "cells": [
  {
   "cell_type": "code",
   "execution_count": 1,
   "metadata": {
    "ExecuteTime": {
     "end_time": "2021-12-07T03:40:47Z",
     "start_time": "2021-12-07T03:40:35.886Z"
    }
   },
   "outputs": [],
   "source": [
    "import \"github.com/levigross/grequests\""
   ]
  },
  {
   "cell_type": "code",
   "execution_count": 5,
   "metadata": {
    "ExecuteTime": {
     "end_time": "2021-12-07T03:41:45Z",
     "start_time": "2021-12-07T03:41:45.304Z"
    }
   },
   "outputs": [],
   "source": [
    "resp,err := grequests.Get(\"http://httpbin.org/get\",nil)"
   ]
  },
  {
   "cell_type": "code",
   "execution_count": 7,
   "metadata": {
    "ExecuteTime": {
     "end_time": "2021-12-07T03:41:57Z",
     "start_time": "2021-12-07T03:41:57.419Z"
    }
   },
   "outputs": [],
   "source": [
    "import \"fmt\""
   ]
  },
  {
   "cell_type": "code",
   "execution_count": 8,
   "metadata": {
    "ExecuteTime": {
     "end_time": "2021-12-07T03:42:06Z",
     "start_time": "2021-12-07T03:42:06.132Z"
    }
   },
   "outputs": [
    {
     "name": "stdout",
     "output_type": "stream",
     "text": [
      "{\n",
      "  \"args\": {}, \n",
      "  \"headers\": {\n",
      "    \"Accept-Encoding\": \"gzip\", \n",
      "    \"Host\": \"httpbin.org\", \n",
      "    \"User-Agent\": \"GRequests/0.10\", \n",
      "    \"X-Amzn-Trace-Id\": \"Root=1-61aed7f9-53807c6104462ba013cefcf4\"\n",
      "  }, \n",
      "  \"origin\": \"112.66.71.18\", \n",
      "  \"url\": \"http://httpbin.org/get\"\n",
      "}\n",
      "\n"
     ]
    },
    {
     "data": {
      "text/plain": [
       "267 <nil>"
      ]
     },
     "execution_count": 8,
     "metadata": {},
     "output_type": "execute_result"
    }
   ],
   "source": [
    "fmt.Println(resp)"
   ]
  },
  {
   "cell_type": "code",
   "execution_count": 9,
   "metadata": {
    "ExecuteTime": {
     "end_time": "2021-12-07T03:46:40Z",
     "start_time": "2021-12-07T03:46:20.073Z"
    }
   },
   "outputs": [],
   "source": [
    "import \"github.com/go-redis/redis/v8\""
   ]
  },
  {
   "cell_type": "code",
   "execution_count": 10,
   "metadata": {
    "ExecuteTime": {
     "end_time": "2021-12-07T03:47:17Z",
     "start_time": "2021-12-07T03:47:12.731Z"
    }
   },
   "outputs": [],
   "source": [
    "import \"github.com/davecgh/go-spew/spew\""
   ]
  },
  {
   "cell_type": "code",
   "execution_count": null,
   "metadata": {},
   "outputs": [],
   "source": []
  }
 ],
 "metadata": {
  "kernelspec": {
   "display_name": "Go",
   "language": "go",
   "name": "gophernotes"
  },
  "language_info": {
   "codemirror_mode": "",
   "file_extension": ".go",
   "mimetype": "",
   "name": "go",
   "nbconvert_exporter": "",
   "pygments_lexer": "",
   "version": "go1.17.3"
  }
 },
 "nbformat": 4,
 "nbformat_minor": 2
}
