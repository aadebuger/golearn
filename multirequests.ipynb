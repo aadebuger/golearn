{
 "cells": [
  {
   "cell_type": "code",
   "execution_count": 1,
   "metadata": {
    "ExecuteTime": {
     "end_time": "2021-12-12T14:55:34Z",
     "start_time": "2021-12-12T14:45:56.092Z"
    }
   },
   "outputs": [],
   "source": [
    "import \"github.com/ethereum/go-ethereum/ethclient\""
   ]
  },
  {
   "cell_type": "code",
   "execution_count": 7,
   "metadata": {
    "ExecuteTime": {
     "end_time": "2021-12-13T02:24:27Z",
     "start_time": "2021-12-13T02:24:27.327Z"
    }
   },
   "outputs": [],
   "source": [
    "import (\n",
    "\"fmt\"\n",
    "\"time\"\n",
    "\"net/http\"\n",
    "\"os\"\n",
    "\"io/ioutil\")"
   ]
  },
  {
   "cell_type": "code",
   "execution_count": 16,
   "metadata": {
    "ExecuteTime": {
     "end_time": "2021-12-13T02:36:57Z",
     "start_time": "2021-12-13T02:36:57.935Z"
    }
   },
   "outputs": [],
   "source": [
    "func makerequest(url string) {\n",
    "    start := time.Now()\n",
    "    fmt.Println(start)\n",
    "    resp,_ := http.Get(url)\n",
    "}"
   ]
  },
  {
   "cell_type": "code",
   "execution_count": 17,
   "metadata": {
    "ExecuteTime": {
     "end_time": "2021-12-13T02:37:00Z",
     "start_time": "2021-12-13T02:37:00.078Z"
    }
   },
   "outputs": [
    {
     "name": "stdout",
     "output_type": "stream",
     "text": [
      "2021-12-13 10:37:00.083063 +0800 CST m=+42670.588788148\n"
     ]
    }
   ],
   "source": [
    "makerequest(\"http://baidu..com\")"
   ]
  },
  {
   "cell_type": "code",
   "execution_count": null,
   "metadata": {},
   "outputs": [],
   "source": []
  }
 ],
 "metadata": {
  "kernelspec": {
   "display_name": "Go",
   "language": "go",
   "name": "gophernotes"
  },
  "language_info": {
   "codemirror_mode": "",
   "file_extension": ".go",
   "mimetype": "",
   "name": "go",
   "nbconvert_exporter": "",
   "pygments_lexer": "",
   "version": "go1.17.3"
  }
 },
 "nbformat": 4,
 "nbformat_minor": 2
}
