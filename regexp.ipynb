{
 "cells": [
  {
   "cell_type": "code",
   "execution_count": 2,
   "metadata": {
    "ExecuteTime": {
     "end_time": "2021-12-07T01:07:11Z",
     "start_time": "2021-12-07T01:07:11.980Z"
    }
   },
   "outputs": [],
   "source": [
    "import (\n",
    "\"fmt\"\n",
    "\"bytes\"\n",
    "\"regexp\")"
   ]
  },
  {
   "cell_type": "markdown",
   "metadata": {},
   "source": [
    "match,_=regexp.MatchString(\"aa\")"
   ]
  },
  {
   "cell_type": "code",
   "execution_count": 5,
   "metadata": {
    "ExecuteTime": {
     "end_time": "2021-12-07T01:08:52Z",
     "start_time": "2021-12-07T01:08:52.902Z"
    }
   },
   "outputs": [
    {
     "ename": "ERROR",
     "evalue": "repl.go:1:30: not enough arguments in call to regexp.MatchString:\n\thave (untyped.Lit)\n\twant (string, string)",
     "output_type": "error",
     "traceback": [
      "repl.go:1:30: not enough arguments in call to regexp.MatchString:\n\thave (untyped.Lit)\n\twant (string, string)"
     ]
    }
   ],
   "source": [
    "match,_ :=regexp.MatchString(\"aa\")"
   ]
  },
  {
   "cell_type": "code",
   "execution_count": 4,
   "metadata": {
    "ExecuteTime": {
     "end_time": "2021-12-07T01:08:19Z",
     "start_time": "2021-12-07T01:08:19.582Z"
    }
   },
   "outputs": [
    {
     "name": "stdout",
     "output_type": "stream",
     "text": [
      "{regexp \"regexp\", 8 binds, 1 types}\n"
     ]
    },
    {
     "data": {
      "text/plain": [
       "36 <nil>"
      ]
     },
     "execution_count": 4,
     "metadata": {},
     "output_type": "execute_result"
    }
   ],
   "source": [
    "fmt.Println(regexp)"
   ]
  },
  {
   "cell_type": "code",
   "execution_count": null,
   "metadata": {},
   "outputs": [],
   "source": []
  }
 ],
 "metadata": {
  "kernelspec": {
   "display_name": "Go",
   "language": "go",
   "name": "gophernotes"
  },
  "language_info": {
   "codemirror_mode": "",
   "file_extension": ".go",
   "mimetype": "",
   "name": "go",
   "nbconvert_exporter": "",
   "pygments_lexer": "",
   "version": "go1.17.3"
  }
 },
 "nbformat": 4,
 "nbformat_minor": 2
}
