{
 "cells": [
  {
   "cell_type": "code",
   "execution_count": 1,
   "metadata": {
    "ExecuteTime": {
     "end_time": "2021-12-10T03:22:44Z",
     "start_time": "2021-12-10T03:22:25.595Z"
    }
   },
   "outputs": [
    {
     "ename": "ERROR",
     "evalue": "error executing \"/usr/local/go/bin/go build -buildmode=plugin\" in directory \"/Users/aadebuger/go/src/gomacro.imports/github.com/beego/beego/v2/server/web/\": exit status 2",
     "output_type": "error",
     "traceback": [
      "error executing \"/usr/local/go/bin/go build -buildmode=plugin\" in directory \"/Users/aadebuger/go/src/gomacro.imports/github.com/beego/beego/v2/server/web/\": exit status 2"
     ]
    }
   ],
   "source": [
    "import \"github.com/beego/beego/v2/server/web\""
   ]
  },
  {
   "cell_type": "code",
   "execution_count": 2,
   "metadata": {
    "ExecuteTime": {
     "end_time": "2021-12-10T03:39:15Z",
     "start_time": "2021-12-10T03:38:57.893Z"
    }
   },
   "outputs": [],
   "source": [
    "import \"github.com/gorilla/websocket\""
   ]
  },
  {
   "cell_type": "code",
   "execution_count": 3,
   "metadata": {
    "ExecuteTime": {
     "end_time": "2021-12-10T10:41:08Z",
     "start_time": "2021-12-10T10:40:55.828Z"
    }
   },
   "outputs": [],
   "source": [
    "import \"github.com/go-sql-driver/mysql\""
   ]
  },
  {
   "cell_type": "code",
   "execution_count": null,
   "metadata": {},
   "outputs": [],
   "source": []
  }
 ],
 "metadata": {
  "kernelspec": {
   "display_name": "Go",
   "language": "go",
   "name": "gophernotes"
  },
  "language_info": {
   "codemirror_mode": "",
   "file_extension": ".go",
   "mimetype": "",
   "name": "go",
   "nbconvert_exporter": "",
   "pygments_lexer": "",
   "version": "go1.17.3"
  }
 },
 "nbformat": 4,
 "nbformat_minor": 2
}
