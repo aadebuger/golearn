{
 "cells": [
  {
   "cell_type": "code",
   "execution_count": 1,
   "metadata": {
    "ExecuteTime": {
     "end_time": "2021-12-05T14:33:11Z",
     "start_time": "2021-12-05T14:33:11.886Z"
    }
   },
   "outputs": [
    {
     "ename": "ERROR",
     "evalue": "repl.go:1:1: undefined \"fmt\" in fmt.Println <*ast.SelectorExpr>",
     "output_type": "error",
     "traceback": [
      "repl.go:1:1: undefined \"fmt\" in fmt.Println <*ast.SelectorExpr>"
     ]
    }
   ],
   "source": [
    "fmt.Println(\"hello world\")"
   ]
  },
  {
   "cell_type": "code",
   "execution_count": 4,
   "metadata": {
    "ExecuteTime": {
     "end_time": "2021-12-05T23:38:20Z",
     "start_time": "2021-12-05T23:38:20.812Z"
    }
   },
   "outputs": [],
   "source": [
    "\n",
    "import \"fmt\""
   ]
  },
  {
   "cell_type": "code",
   "execution_count": 3,
   "metadata": {
    "ExecuteTime": {
     "end_time": "2021-12-05T14:33:28Z",
     "start_time": "2021-12-05T14:33:28.056Z"
    }
   },
   "outputs": [
    {
     "name": "stdout",
     "output_type": "stream",
     "text": [
      "hello world\n"
     ]
    },
    {
     "data": {
      "text/plain": [
       "12 <nil>"
      ]
     },
     "execution_count": 3,
     "metadata": {},
     "output_type": "execute_result"
    }
   ],
   "source": [
    "fmt.Println(\"hello world\")"
   ]
  },
  {
   "cell_type": "code",
   "execution_count": 4,
   "metadata": {
    "ExecuteTime": {
     "end_time": "2021-12-05T14:33:54Z",
     "start_time": "2021-12-05T14:33:54.400Z"
    }
   },
   "outputs": [
    {
     "name": "stdout",
     "output_type": "stream",
     "text": [
      "golang\n",
      "1+1 = 2\n",
      "7.0/3.0 = 2.3333333333333335\n",
      "false\n",
      "true\n",
      "false\n"
     ]
    },
    {
     "data": {
      "text/plain": [
       "6 <nil>"
      ]
     },
     "execution_count": 4,
     "metadata": {},
     "output_type": "execute_result"
    }
   ],
   "source": [
    "\n",
    "    fmt.Println(\"go\" + \"lang\")\n",
    "\n",
    "\n",
    "    fmt.Println(\"1+1 =\", 1+1)\n",
    "    fmt.Println(\"7.0/3.0 =\", 7.0/3.0)\n",
    "\n",
    "\n",
    "    fmt.Println(true && false)\n",
    "    fmt.Println(true || false)\n",
    "    fmt.Println(!true)"
   ]
  },
  {
   "cell_type": "code",
   "execution_count": 5,
   "metadata": {
    "ExecuteTime": {
     "end_time": "2021-12-05T14:34:34Z",
     "start_time": "2021-12-05T14:34:34.294Z"
    }
   },
   "outputs": [],
   "source": [
    "var a string = \"initial\""
   ]
  },
  {
   "cell_type": "code",
   "execution_count": 6,
   "metadata": {
    "ExecuteTime": {
     "end_time": "2021-12-05T14:34:43Z",
     "start_time": "2021-12-05T14:34:43.901Z"
    }
   },
   "outputs": [
    {
     "name": "stdout",
     "output_type": "stream",
     "text": [
      "initial\n"
     ]
    },
    {
     "data": {
      "text/plain": [
       "8 <nil>"
      ]
     },
     "execution_count": 6,
     "metadata": {},
     "output_type": "execute_result"
    }
   ],
   "source": [
    "fmt.Println(a)"
   ]
  },
  {
   "cell_type": "code",
   "execution_count": 7,
   "metadata": {
    "ExecuteTime": {
     "end_time": "2021-12-05T23:35:37Z",
     "start_time": "2021-12-05T23:35:37.182Z"
    }
   },
   "outputs": [],
   "source": [
    "const s string=\"hello\""
   ]
  },
  {
   "cell_type": "code",
   "execution_count": 8,
   "metadata": {
    "ExecuteTime": {
     "end_time": "2021-12-05T23:35:51Z",
     "start_time": "2021-12-05T23:35:51.660Z"
    }
   },
   "outputs": [
    {
     "name": "stdout",
     "output_type": "stream",
     "text": [
      "hello\n"
     ]
    },
    {
     "data": {
      "text/plain": [
       "6 <nil>"
      ]
     },
     "execution_count": 8,
     "metadata": {},
     "output_type": "execute_result"
    }
   ],
   "source": [
    "fmt.Println(s)"
   ]
  },
  {
   "cell_type": "code",
   "execution_count": 9,
   "metadata": {
    "ExecuteTime": {
     "end_time": "2021-12-05T23:36:07Z",
     "start_time": "2021-12-05T23:36:07.435Z"
    }
   },
   "outputs": [],
   "source": [
    "const n=50000"
   ]
  },
  {
   "cell_type": "code",
   "execution_count": 10,
   "metadata": {
    "ExecuteTime": {
     "end_time": "2021-12-05T23:36:25Z",
     "start_time": "2021-12-05T23:36:25.072Z"
    }
   },
   "outputs": [],
   "source": [
    "const d = 3e20 / n"
   ]
  },
  {
   "cell_type": "code",
   "execution_count": 11,
   "metadata": {
    "ExecuteTime": {
     "end_time": "2021-12-05T23:36:31Z",
     "start_time": "2021-12-05T23:36:31.971Z"
    }
   },
   "outputs": [
    {
     "name": "stdout",
     "output_type": "stream",
     "text": [
      "6e+15\n"
     ]
    },
    {
     "data": {
      "text/plain": [
       "6 <nil>"
      ]
     },
     "execution_count": 11,
     "metadata": {},
     "output_type": "execute_result"
    }
   ],
   "source": [
    "fmt.Println(d)"
   ]
  },
  {
   "cell_type": "code",
   "execution_count": 12,
   "metadata": {
    "ExecuteTime": {
     "end_time": "2021-12-05T23:37:03Z",
     "start_time": "2021-12-05T23:37:03.300Z"
    }
   },
   "outputs": [
    {
     "name": "stdout",
     "output_type": "stream",
     "text": [
      "6000000000000000\n"
     ]
    },
    {
     "data": {
      "text/plain": [
       "17 <nil>"
      ]
     },
     "execution_count": 12,
     "metadata": {},
     "output_type": "execute_result"
    }
   ],
   "source": [
    "fmt.Println(int64(d))"
   ]
  },
  {
   "cell_type": "code",
   "execution_count": 2,
   "metadata": {
    "ExecuteTime": {
     "end_time": "2021-12-05T23:38:16Z",
     "start_time": "2021-12-05T23:38:16.074Z"
    }
   },
   "outputs": [],
   "source": [
    "i :=1"
   ]
  },
  {
   "cell_type": "code",
   "execution_count": 5,
   "metadata": {
    "ExecuteTime": {
     "end_time": "2021-12-05T23:38:23Z",
     "start_time": "2021-12-05T23:38:23.689Z"
    }
   },
   "outputs": [
    {
     "name": "stdout",
     "output_type": "stream",
     "text": [
      "1\n",
      "2\n",
      "3\n"
     ]
    }
   ],
   "source": [
    "for i <=3 {\n",
    "    fmt.Println(i)\n",
    "    i = i +1\n",
    "}"
   ]
  },
  {
   "cell_type": "code",
   "execution_count": 6,
   "metadata": {
    "ExecuteTime": {
     "end_time": "2021-12-06T00:24:45Z",
     "start_time": "2021-12-06T00:24:45.601Z"
    }
   },
   "outputs": [],
   "source": [
    "if 7%2 == 0 {\n",
    "    fmt.Println(\"7\")\n",
    "}"
   ]
  },
  {
   "cell_type": "code",
   "execution_count": 7,
   "metadata": {
    "ExecuteTime": {
     "end_time": "2021-12-06T00:24:53Z",
     "start_time": "2021-12-06T00:24:53.085Z"
    }
   },
   "outputs": [
    {
     "name": "stdout",
     "output_type": "stream",
     "text": [
      "7\n"
     ]
    }
   ],
   "source": [
    "if 7%2 == 1 {\n",
    "    fmt.Println(\"7\")\n",
    "}"
   ]
  },
  {
   "cell_type": "code",
   "execution_count": 9,
   "metadata": {
    "ExecuteTime": {
     "end_time": "2021-12-06T00:26:06Z",
     "start_time": "2021-12-06T00:26:06.410Z"
    }
   },
   "outputs": [],
   "source": [
    "var a [5]int"
   ]
  },
  {
   "cell_type": "code",
   "execution_count": 10,
   "metadata": {
    "ExecuteTime": {
     "end_time": "2021-12-06T00:26:12Z",
     "start_time": "2021-12-06T00:26:12.781Z"
    }
   },
   "outputs": [
    {
     "name": "stdout",
     "output_type": "stream",
     "text": [
      "[0 0 0 0 0]\n"
     ]
    },
    {
     "data": {
      "text/plain": [
       "12 <nil>"
      ]
     },
     "execution_count": 10,
     "metadata": {},
     "output_type": "execute_result"
    }
   ],
   "source": [
    "fmt.Println(a)"
   ]
  },
  {
   "cell_type": "code",
   "execution_count": 11,
   "metadata": {
    "ExecuteTime": {
     "end_time": "2021-12-06T00:26:17Z",
     "start_time": "2021-12-06T00:26:17.772Z"
    }
   },
   "outputs": [],
   "source": [
    "a[0]=1"
   ]
  },
  {
   "cell_type": "code",
   "execution_count": 12,
   "metadata": {
    "ExecuteTime": {
     "end_time": "2021-12-06T00:26:22Z",
     "start_time": "2021-12-06T00:26:22.673Z"
    }
   },
   "outputs": [
    {
     "name": "stdout",
     "output_type": "stream",
     "text": [
      "[1 0 0 0 0]\n"
     ]
    },
    {
     "data": {
      "text/plain": [
       "12 <nil>"
      ]
     },
     "execution_count": 12,
     "metadata": {},
     "output_type": "execute_result"
    }
   ],
   "source": [
    "fmt.Println(a)"
   ]
  },
  {
   "cell_type": "code",
   "execution_count": 14,
   "metadata": {
    "ExecuteTime": {
     "end_time": "2021-12-06T00:27:27Z",
     "start_time": "2021-12-06T00:27:27.835Z"
    }
   },
   "outputs": [],
   "source": [
    "var b=[]int{4,5,6}"
   ]
  },
  {
   "cell_type": "code",
   "execution_count": 15,
   "metadata": {
    "ExecuteTime": {
     "end_time": "2021-12-06T00:27:35Z",
     "start_time": "2021-12-06T00:27:35.547Z"
    }
   },
   "outputs": [
    {
     "name": "stdout",
     "output_type": "stream",
     "text": [
      "[4 5 6]\n"
     ]
    },
    {
     "data": {
      "text/plain": [
       "8 <nil>"
      ]
     },
     "execution_count": 15,
     "metadata": {},
     "output_type": "execute_result"
    }
   ],
   "source": [
    "fmt.Println(b)"
   ]
  },
  {
   "cell_type": "code",
   "execution_count": 22,
   "metadata": {
    "ExecuteTime": {
     "end_time": "2021-12-06T00:29:43Z",
     "start_time": "2021-12-06T00:29:43.504Z"
    }
   },
   "outputs": [],
   "source": [
    "func plus(a int ,b int) int {\n",
    "    return a+b\n",
    "}"
   ]
  },
  {
   "cell_type": "code",
   "execution_count": 23,
   "metadata": {
    "ExecuteTime": {
     "end_time": "2021-12-06T00:29:50Z",
     "start_time": "2021-12-06T00:29:50.745Z"
    }
   },
   "outputs": [
    {
     "data": {
      "text/plain": [
       "3"
      ]
     },
     "execution_count": 23,
     "metadata": {},
     "output_type": "execute_result"
    }
   ],
   "source": [
    "plus(1,2)"
   ]
  },
  {
   "cell_type": "code",
   "execution_count": 29,
   "metadata": {
    "ExecuteTime": {
     "end_time": "2021-12-06T00:34:16Z",
     "start_time": "2021-12-06T00:34:16.183Z"
    }
   },
   "outputs": [],
   "source": [
    "func valus() (int, int) {\n",
    "    return 3,7\n",
    "}"
   ]
  },
  {
   "cell_type": "code",
   "execution_count": 30,
   "metadata": {
    "ExecuteTime": {
     "end_time": "2021-12-06T00:34:21Z",
     "start_time": "2021-12-06T00:34:21.732Z"
    }
   },
   "outputs": [
    {
     "data": {
      "text/plain": [
       "3 7"
      ]
     },
     "execution_count": 30,
     "metadata": {},
     "output_type": "execute_result"
    }
   ],
   "source": [
    "valus()"
   ]
  },
  {
   "cell_type": "code",
   "execution_count": 31,
   "metadata": {
    "ExecuteTime": {
     "end_time": "2021-12-06T00:35:54Z",
     "start_time": "2021-12-06T00:35:54.692Z"
    }
   },
   "outputs": [],
   "source": [
    "func zeroptr(iptr *int) {\n",
    "    *iptr = 0\n",
    "}"
   ]
  },
  {
   "cell_type": "code",
   "execution_count": 32,
   "metadata": {
    "ExecuteTime": {
     "end_time": "2021-12-06T03:46:35Z",
     "start_time": "2021-12-06T03:46:34.308Z"
    }
   },
   "outputs": [
    {
     "ename": "ERROR",
     "evalue": "error loading package \"error\" metadata: error executing \"/usr/local/go/bin/go get error\" in directory \"/Users/aadebuger/go/src/gomacro.imports/error\": exit status 1",
     "output_type": "error",
     "traceback": [
      "error loading package \"error\" metadata: error executing \"/usr/local/go/bin/go get error\" in directory \"/Users/aadebuger/go/src/gomacro.imports/error\": exit status 1"
     ]
    }
   ],
   "source": [
    "import \"error\""
   ]
  },
  {
   "cell_type": "code",
   "execution_count": 35,
   "metadata": {
    "ExecuteTime": {
     "end_time": "2021-12-06T03:48:52Z",
     "start_time": "2021-12-06T03:48:52.487Z"
    }
   },
   "outputs": [],
   "source": [
    "func test(arg int) (int , error) {\n",
    "    fmt.Println(arg)\n",
    "}"
   ]
  },
  {
   "cell_type": "code",
   "execution_count": 37,
   "metadata": {
    "ExecuteTime": {
     "end_time": "2021-12-06T03:59:52Z",
     "start_time": "2021-12-06T03:59:52.198Z"
    }
   },
   "outputs": [],
   "source": [
    "type argError struct {\n",
    "    \n",
    "    name string\n",
    "    arg int \n",
    "}"
   ]
  },
  {
   "cell_type": "code",
   "execution_count": 52,
   "metadata": {
    "ExecuteTime": {
     "end_time": "2021-12-06T04:03:21Z",
     "start_time": "2021-12-06T04:03:21.649Z"
    }
   },
   "outputs": [
    {
     "ename": "ERROR",
     "evalue": "repl.go:2:5: expected operand, found 'range'",
     "output_type": "error",
     "traceback": [
      "repl.go:2:5: expected operand, found 'range'"
     ]
    }
   ],
   "source": [
    "var a int ;\n",
    "_,a=range []{1,10}"
   ]
  },
  {
   "cell_type": "code",
   "execution_count": 46,
   "metadata": {
    "ExecuteTime": {
     "end_time": "2021-12-06T04:02:23Z",
     "start_time": "2021-12-06T04:02:23.432Z"
    }
   },
   "outputs": [],
   "source": [
    "for _, i := range []int{7, 42} {\n",
    "}"
   ]
  },
  {
   "cell_type": "code",
   "execution_count": 53,
   "metadata": {
    "ExecuteTime": {
     "end_time": "2021-12-06T05:29:12Z",
     "start_time": "2021-12-06T05:29:12.570Z"
    }
   },
   "outputs": [],
   "source": [
    "c1 := make( chan string)"
   ]
  },
  {
   "cell_type": "code",
   "execution_count": 54,
   "metadata": {
    "ExecuteTime": {
     "end_time": "2021-12-06T05:29:20Z",
     "start_time": "2021-12-06T05:29:20.728Z"
    }
   },
   "outputs": [
    {
     "name": "stdout",
     "output_type": "stream",
     "text": [
      "0xc0000140c0\n"
     ]
    },
    {
     "data": {
      "text/plain": [
       "13 <nil>"
      ]
     },
     "execution_count": 54,
     "metadata": {},
     "output_type": "execute_result"
    }
   ],
   "source": [
    "fmt.Println(c1)"
   ]
  },
  {
   "cell_type": "code",
   "execution_count": null,
   "metadata": {},
   "outputs": [],
   "source": []
  }
 ],
 "metadata": {
  "kernelspec": {
   "display_name": "Go",
   "language": "go",
   "name": "gophernotes"
  },
  "language_info": {
   "codemirror_mode": "",
   "file_extension": ".go",
   "mimetype": "",
   "name": "go",
   "nbconvert_exporter": "",
   "pygments_lexer": "",
   "version": "go1.17.3"
  }
 },
 "nbformat": 4,
 "nbformat_minor": 2
}
