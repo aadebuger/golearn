{
 "cells": [
  {
   "cell_type": "code",
   "execution_count": 1,
   "metadata": {
    "ExecuteTime": {
     "end_time": "2021-12-10T03:29:24Z",
     "start_time": "2021-12-10T03:29:24.941Z"
    }
   },
   "outputs": [],
   "source": [
    "import \"fmt\""
   ]
  },
  {
   "cell_type": "code",
   "execution_count": 4,
   "metadata": {
    "ExecuteTime": {
     "end_time": "2021-12-10T03:30:01Z",
     "start_time": "2021-12-10T03:30:01.244Z"
    }
   },
   "outputs": [],
   "source": [
    "jobv := make( chan string, 2)"
   ]
  },
  {
   "cell_type": "code",
   "execution_count": 6,
   "metadata": {
    "ExecuteTime": {
     "end_time": "2021-12-10T03:30:31Z",
     "start_time": "2021-12-10T03:30:31.976Z"
    }
   },
   "outputs": [],
   "source": [
    "jobv <-\"hello\""
   ]
  },
  {
   "cell_type": "code",
   "execution_count": 7,
   "metadata": {
    "ExecuteTime": {
     "end_time": "2021-12-10T03:30:39Z",
     "start_time": "2021-12-10T03:30:39.638Z"
    }
   },
   "outputs": [],
   "source": [
    "jobv <-\"hello1\""
   ]
  },
  {
   "cell_type": "code",
   "execution_count": 8,
   "metadata": {
    "ExecuteTime": {
     "end_time": "2021-12-10T03:30:44Z",
     "start_time": "2021-12-10T03:30:44.805Z"
    }
   },
   "outputs": [],
   "source": [
    "close(jobv)"
   ]
  },
  {
   "cell_type": "code",
   "execution_count": 10,
   "metadata": {
    "ExecuteTime": {
     "end_time": "2021-12-10T03:31:14Z",
     "start_time": "2021-12-10T03:31:14.918Z"
    }
   },
   "outputs": [
    {
     "name": "stdout",
     "output_type": "stream",
     "text": [
      "hello\n",
      "hello1\n"
     ]
    }
   ],
   "source": [
    "for j := range jobv {\n",
    "    fmt.Println(j)\n",
    "}"
   ]
  },
  {
   "cell_type": "code",
   "execution_count": null,
   "metadata": {},
   "outputs": [],
   "source": []
  }
 ],
 "metadata": {
  "kernelspec": {
   "display_name": "Go",
   "language": "go",
   "name": "gophernotes"
  },
  "language_info": {
   "codemirror_mode": "",
   "file_extension": ".go",
   "mimetype": "",
   "name": "go",
   "nbconvert_exporter": "",
   "pygments_lexer": "",
   "version": "go1.17.3"
  }
 },
 "nbformat": 4,
 "nbformat_minor": 2
}
