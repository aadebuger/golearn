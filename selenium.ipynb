{
 "cells": [
  {
   "cell_type": "code",
   "execution_count": 1,
   "metadata": {
    "ExecuteTime": {
     "end_time": "2021-12-13T03:27:03Z",
     "start_time": "2021-12-13T03:26:27.077Z"
    }
   },
   "outputs": [],
   "source": [
    "import \"github.com/tebeka/selenium\""
   ]
  },
  {
   "cell_type": "code",
   "execution_count": 2,
   "metadata": {
    "ExecuteTime": {
     "end_time": "2021-12-13T03:33:44Z",
     "start_time": "2021-12-13T03:33:34.720Z"
    }
   },
   "outputs": [],
   "source": [
    "import (\n",
    "    \"fmt\"\n",
    "    \"github.com/tebeka/selenium\"\n",
    "    \"github.com/tebeka/selenium/chrome\"\n",
    ")"
   ]
  },
  {
   "cell_type": "code",
   "execution_count": 5,
   "metadata": {
    "ExecuteTime": {
     "end_time": "2021-12-13T03:39:10Z",
     "start_time": "2021-12-13T03:39:10.165Z"
    }
   },
   "outputs": [],
   "source": [
    "func SeleniumTest() {\n",
    "\n",
    "    const (\n",
    "        seleniumPath = `/VOLUMES/G-DRIVE/cloud2020/webdriverlr/chromedriver`\n",
    "        port            = 9515\n",
    "    )\n",
    "\n",
    "    opts := []selenium.ServiceOption{\n",
    "\n",
    "    }\n",
    "\n",
    "\n",
    "    selenium.SetDebug(true)\n",
    "\n",
    "    service, err := selenium.NewChromeDriverService(seleniumPath, port, opts...)\n",
    "    if nil != err {\n",
    "        fmt.Println(\"start a chromedriver service falid\", err.Error())\n",
    "        return\n",
    "    }\n",
    "\n",
    "    ////server关闭之后，chrome窗口也会关闭\n",
    "    defer service.Stop()\n",
    "\n",
    "    //链接本地的浏览器 chrome\n",
    "    caps := selenium.Capabilities{\n",
    "        //\"browserName\": \"/Applications/Google Chrome Dev.app/Contents/MacOS/Google Chrome Dev\",\n",
    "        \"browserName\": \"Google Chrome Dev\",\n",
    "    }\n",
    "}"
   ]
  },
  {
   "cell_type": "code",
   "execution_count": 4,
   "metadata": {
    "ExecuteTime": {
     "end_time": "2021-12-13T03:36:37Z",
     "start_time": "2021-12-13T03:36:37.646Z"
    }
   },
   "outputs": [
    {
     "name": "stdout",
     "output_type": "stream",
     "text": [
      "start a chromedriver service falid fork/exec ./chromedriver: no such file or directory\n"
     ]
    }
   ],
   "source": [
    "SeleniumTest()"
   ]
  },
  {
   "cell_type": "code",
   "execution_count": 6,
   "metadata": {
    "ExecuteTime": {
     "end_time": "2021-12-13T03:39:47Z",
     "start_time": "2021-12-13T03:39:17.058Z"
    }
   },
   "outputs": [
    {
     "name": "stdout",
     "output_type": "stream",
     "text": [
      "start a chromedriver service falid server did not respond on port 9515\n"
     ]
    }
   ],
   "source": [
    "SeleniumTest()"
   ]
  },
  {
   "cell_type": "code",
   "execution_count": 7,
   "metadata": {
    "ExecuteTime": {
     "end_time": "2021-12-13T09:19:30Z",
     "start_time": "2021-12-13T09:19:30.158Z"
    }
   },
   "outputs": [
    {
     "ename": "ERROR",
     "evalue": "repl.go:1:2: undefined identifier: ls",
     "output_type": "error",
     "traceback": [
      "repl.go:1:2: undefined identifier: ls"
     ]
    }
   ],
   "source": [
    "!ls"
   ]
  },
  {
   "cell_type": "code",
   "execution_count": 8,
   "metadata": {
    "ExecuteTime": {
     "end_time": "2021-12-13T09:19:37Z",
     "start_time": "2021-12-13T09:19:36.995Z"
    }
   },
   "outputs": [
    {
     "ename": "ERROR",
     "evalue": "repl.go:1:1: illegal character U+0040 '@'",
     "output_type": "error",
     "traceback": [
      "repl.go:1:1: illegal character U+0040 '@'"
     ]
    }
   ],
   "source": [
    "@ls"
   ]
  },
  {
   "cell_type": "code",
   "execution_count": 9,
   "metadata": {
    "ExecuteTime": {
     "end_time": "2021-12-13T09:19:44Z",
     "start_time": "2021-12-13T09:19:44.358Z"
    }
   },
   "outputs": [
    {
     "ename": "ERROR",
     "evalue": "unknown special command: \"%ls\"\n\navailable special commands (%):\n%cd [path]\n%go111module {on|off}\n%help\n\nexecute shell commands ($): $command [args...]\nexample:\n$ls -l\n",
     "output_type": "error",
     "traceback": [
      "unknown special command: \"%ls\"\n\navailable special commands (%):\n%cd [path]\n%go111module {on|off}\n%help\n\nexecute shell commands ($): $command [args...]\nexample:\n$ls -l\n"
     ]
    }
   ],
   "source": [
    "%ls"
   ]
  },
  {
   "cell_type": "code",
   "execution_count": 10,
   "metadata": {
    "ExecuteTime": {
     "end_time": "2021-12-13T09:19:51Z",
     "start_time": "2021-12-13T09:19:51.384Z"
    }
   },
   "outputs": [
    {
     "name": "stdout",
     "output_type": "stream",
     "text": [
      "Untitled.ipynb\n",
      "Untitled1.ipynb\n",
      "Untitled10.ipynb\n",
      "Untitled11.ipynb\n",
      "Untitled12.ipynb\n",
      "Untitled13.ipynb\n",
      "Untitled14.ipynb\n",
      "Untitled15.ipynb\n",
      "Untitled17.ipynb\n",
      "Untitled2.ipynb\n",
      "Untitled3.ipynb\n",
      "Untitled4.ipynb\n",
      "Untitled5.ipynb\n",
      "Untitled6.ipynb\n",
      "Untitled7.ipynb\n",
      "Untitled8.ipynb\n",
      "Untitled9.ipynb\n",
      "grequests.ipynb\n",
      "json.ipynb\n",
      "multirequests.ipynb\n",
      "regexp.ipynb\n",
      "selenium.ipynb\n",
      "subdir\n"
     ]
    }
   ],
   "source": [
    "$ls"
   ]
  },
  {
   "cell_type": "code",
   "execution_count": 11,
   "metadata": {
    "ExecuteTime": {
     "end_time": "2021-12-13T09:19:59Z",
     "start_time": "2021-12-13T09:19:59.142Z"
    }
   },
   "outputs": [
    {
     "name": "stderr",
     "output_type": "stream",
     "text": [
      "stat init.go: no such file or directory\n"
     ]
    },
    {
     "ename": "ERROR",
     "evalue": "error waiting for command 'go run init.go --alsologtostderr  --download_browsers --download_latest': exit status 1",
     "output_type": "error",
     "traceback": [
      "error waiting for command 'go run init.go --alsologtostderr  --download_browsers --download_latest': exit status 1"
     ]
    }
   ],
   "source": [
    "$go run init.go --alsologtostderr  --download_browsers --download_latest"
   ]
  },
  {
   "cell_type": "code",
   "execution_count": null,
   "metadata": {},
   "outputs": [],
   "source": [
    "impo"
   ]
  }
 ],
 "metadata": {
  "kernelspec": {
   "display_name": "Go",
   "language": "go",
   "name": "gophernotes"
  },
  "language_info": {
   "codemirror_mode": "",
   "file_extension": ".go",
   "mimetype": "",
   "name": "go",
   "nbconvert_exporter": "",
   "pygments_lexer": "",
   "version": "go1.17.3"
  }
 },
 "nbformat": 4,
 "nbformat_minor": 2
}
