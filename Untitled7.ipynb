{
 "cells": [
  {
   "cell_type": "code",
   "execution_count": 1,
   "metadata": {
    "ExecuteTime": {
     "end_time": "2021-12-07T06:48:09Z",
     "start_time": "2021-12-07T06:47:55.391Z"
    }
   },
   "outputs": [
    {
     "ename": "ERROR",
     "evalue": "error loading plugin \"/Users/aadebuger/go/src/gomacro.imports/gobot.io/x/gobot/gobot.so\": plugin.Open(\"/Users/aadebuger/go/src/gomacro.imports/gobot.io/x/gobot/gobot\"): plugin was built with a different version of package github.com/gofrs/uuid",
     "output_type": "error",
     "traceback": [
      "error loading plugin \"/Users/aadebuger/go/src/gomacro.imports/gobot.io/x/gobot/gobot.so\": plugin.Open(\"/Users/aadebuger/go/src/gomacro.imports/gobot.io/x/gobot/gobot\"): plugin was built with a different version of package github.com/gofrs/uuid"
     ]
    }
   ],
   "source": [
    "import \"gobot.io/x/gobot\""
   ]
  },
  {
   "cell_type": "code",
   "execution_count": 2,
   "metadata": {
    "ExecuteTime": {
     "end_time": "2021-12-07T06:49:55Z",
     "start_time": "2021-12-07T06:49:50.094Z"
    }
   },
   "outputs": [],
   "source": [
    "import \"github.com/panjf2000/ants/v2\""
   ]
  },
  {
   "cell_type": "code",
   "execution_count": 3,
   "metadata": {
    "ExecuteTime": {
     "end_time": "2021-12-07T06:55:05Z",
     "start_time": "2021-12-07T06:55:00.731Z"
    }
   },
   "outputs": [],
   "source": [
    "import \"github.com/deckarep/golang-set\""
   ]
  },
  {
   "cell_type": "code",
   "execution_count": 4,
   "metadata": {
    "ExecuteTime": {
     "end_time": "2021-12-07T06:59:11Z",
     "start_time": "2021-12-07T06:59:04.780Z"
    }
   },
   "outputs": [],
   "source": [
    "import \"github.com/sirupsen/logrus\""
   ]
  },
  {
   "cell_type": "code",
   "execution_count": null,
   "metadata": {},
   "outputs": [],
   "source": []
  }
 ],
 "metadata": {
  "kernelspec": {
   "display_name": "Go",
   "language": "go",
   "name": "gophernotes"
  },
  "language_info": {
   "codemirror_mode": "",
   "file_extension": ".go",
   "mimetype": "",
   "name": "go",
   "nbconvert_exporter": "",
   "pygments_lexer": "",
   "version": "go1.17.3"
  }
 },
 "nbformat": 4,
 "nbformat_minor": 2
}
