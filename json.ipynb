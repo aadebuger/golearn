{
 "cells": [
  {
   "cell_type": "code",
   "execution_count": 5,
   "metadata": {
    "ExecuteTime": {
     "end_time": "2021-12-06T10:39:35Z",
     "start_time": "2021-12-06T10:39:35.095Z"
    }
   },
   "outputs": [],
   "source": [
    "import \"encoding/json\"\n",
    "import \"fmt\""
   ]
  },
  {
   "cell_type": "code",
   "execution_count": 2,
   "metadata": {
    "ExecuteTime": {
     "end_time": "2021-12-06T10:38:15Z",
     "start_time": "2021-12-06T10:38:15.344Z"
    }
   },
   "outputs": [],
   "source": [
    "type mytype1 struct\n",
    "{\n",
    "    num int\n",
    "    fruits []string\n",
    "}"
   ]
  },
  {
   "cell_type": "code",
   "execution_count": 3,
   "metadata": {
    "ExecuteTime": {
     "end_time": "2021-12-06T10:39:11Z",
     "start_time": "2021-12-06T10:39:11.768Z"
    }
   },
   "outputs": [],
   "source": [
    "type mytype2 struct\n",
    "{\n",
    "    num int\n",
    "    \n",
    "}"
   ]
  },
  {
   "cell_type": "code",
   "execution_count": 4,
   "metadata": {
    "ExecuteTime": {
     "end_time": "2021-12-06T10:39:26Z",
     "start_time": "2021-12-06T10:39:26.614Z"
    }
   },
   "outputs": [],
   "source": [
    "bob,_ :=json.Marshal(true)"
   ]
  },
  {
   "cell_type": "code",
   "execution_count": 7,
   "metadata": {
    "ExecuteTime": {
     "end_time": "2021-12-06T10:40:07Z",
     "start_time": "2021-12-06T10:40:07.315Z"
    }
   },
   "outputs": [
    {
     "name": "stdout",
     "output_type": "stream",
     "text": [
      "[116 114 117 101]\n",
      "true\n"
     ]
    },
    {
     "data": {
      "text/plain": [
       "5 <nil>"
      ]
     },
     "execution_count": 7,
     "metadata": {},
     "output_type": "execute_result"
    }
   ],
   "source": [
    "fmt.Println(bob)\n",
    "fmt.Println(string(bob))"
   ]
  },
  {
   "cell_type": "code",
   "execution_count": 23,
   "metadata": {
    "ExecuteTime": {
     "end_time": "2021-12-06T10:59:28Z",
     "start_time": "2021-12-06T10:59:28.443Z"
    }
   },
   "outputs": [],
   "source": [
    "byt := []byte(`{\"1\":\"2\"}`)"
   ]
  },
  {
   "cell_type": "code",
   "execution_count": 24,
   "metadata": {
    "ExecuteTime": {
     "end_time": "2021-12-06T10:59:29Z",
     "start_time": "2021-12-06T10:59:29.083Z"
    }
   },
   "outputs": [],
   "source": [
    "var dat map[string]interface{}"
   ]
  },
  {
   "cell_type": "code",
   "execution_count": 25,
   "metadata": {
    "ExecuteTime": {
     "end_time": "2021-12-06T10:59:29Z",
     "start_time": "2021-12-06T10:59:29.603Z"
    }
   },
   "outputs": [],
   "source": [
    "error :=json.Unmarshal(byt,&dat)"
   ]
  },
  {
   "cell_type": "code",
   "execution_count": 26,
   "metadata": {
    "ExecuteTime": {
     "end_time": "2021-12-06T10:59:30Z",
     "start_time": "2021-12-06T10:59:30.172Z"
    }
   },
   "outputs": [
    {
     "name": "stdout",
     "output_type": "stream",
     "text": [
      "<nil>\n"
     ]
    },
    {
     "data": {
      "text/plain": [
       "6 <nil>"
      ]
     },
     "execution_count": 26,
     "metadata": {},
     "output_type": "execute_result"
    }
   ],
   "source": [
    "fmt.Println(error)"
   ]
  },
  {
   "cell_type": "code",
   "execution_count": 27,
   "metadata": {
    "ExecuteTime": {
     "end_time": "2021-12-06T10:59:43Z",
     "start_time": "2021-12-06T10:59:43.375Z"
    }
   },
   "outputs": [
    {
     "name": "stdout",
     "output_type": "stream",
     "text": [
      "map[1:2]\n"
     ]
    },
    {
     "data": {
      "text/plain": [
       "9 <nil>"
      ]
     },
     "execution_count": 27,
     "metadata": {},
     "output_type": "execute_result"
    }
   ],
   "source": [
    "fmt.Println(dat)"
   ]
  },
  {
   "cell_type": "code",
   "execution_count": 29,
   "metadata": {
    "ExecuteTime": {
     "end_time": "2021-12-06T11:00:10Z",
     "start_time": "2021-12-06T11:00:10.871Z"
    }
   },
   "outputs": [
    {
     "name": "stdout",
     "output_type": "stream",
     "text": [
      "2 true\n"
     ]
    },
    {
     "data": {
      "text/plain": [
       "7 <nil>"
      ]
     },
     "execution_count": 29,
     "metadata": {},
     "output_type": "execute_result"
    }
   ],
   "source": [
    "fmt.Println(dat[\"1\"])"
   ]
  },
  {
   "cell_type": "code",
   "execution_count": null,
   "metadata": {},
   "outputs": [],
   "source": []
  }
 ],
 "metadata": {
  "kernelspec": {
   "display_name": "Go",
   "language": "go",
   "name": "gophernotes"
  },
  "language_info": {
   "codemirror_mode": "",
   "file_extension": ".go",
   "mimetype": "",
   "name": "go",
   "nbconvert_exporter": "",
   "pygments_lexer": "",
   "version": "go1.17.3"
  }
 },
 "nbformat": 4,
 "nbformat_minor": 2
}
