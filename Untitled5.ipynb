{
 "cells": [
  {
   "cell_type": "code",
   "execution_count": 1,
   "metadata": {
    "ExecuteTime": {
     "end_time": "2021-12-06T11:19:09Z",
     "start_time": "2021-12-06T11:19:09.279Z"
    }
   },
   "outputs": [],
   "source": [
    "import \"fmt\""
   ]
  },
  {
   "cell_type": "code",
   "execution_count": 3,
   "metadata": {
    "ExecuteTime": {
     "end_time": "2021-12-06T11:22:56Z",
     "start_time": "2021-12-06T11:20:47.115Z"
    }
   },
   "outputs": [],
   "source": [
    "import (web3 \"github.com/umbracle/go-web3\")"
   ]
  },
  {
   "cell_type": "code",
   "execution_count": 4,
   "metadata": {
    "ExecuteTime": {
     "end_time": "2021-12-06T11:26:29Z",
     "start_time": "2021-12-06T11:25:20.890Z"
    }
   },
   "outputs": [],
   "source": [
    "import (\"github.com/umbracle/go-web3/jsonrpc\")"
   ]
  },
  {
   "cell_type": "code",
   "execution_count": 5,
   "metadata": {
    "ExecuteTime": {
     "end_time": "2021-12-06T11:29:18Z",
     "start_time": "2021-12-06T11:29:18.188Z"
    }
   },
   "outputs": [
    {
     "name": "stdout",
     "output_type": "stream",
     "text": [
      "{jsonrpc \"github.com/umbracle/go-web3/jsonrpc\", 1 binds, 7 types}\n"
     ]
    },
    {
     "data": {
      "text/plain": [
       "66 <nil>"
      ]
     },
     "execution_count": 5,
     "metadata": {},
     "output_type": "execute_result"
    }
   ],
   "source": [
    "fmt.Println(jsonrpc)"
   ]
  },
  {
   "cell_type": "code",
   "execution_count": 6,
   "metadata": {
    "ExecuteTime": {
     "end_time": "2021-12-06T11:29:43Z",
     "start_time": "2021-12-06T11:29:43.146Z"
    }
   },
   "outputs": [
    {
     "ename": "ERROR",
     "evalue": "repl.go:1:21: expected selector or type assertion, found 'interface'",
     "output_type": "error",
     "traceback": [
      "repl.go:1:21: expected selector or type assertion, found 'interface'"
     ]
    }
   ],
   "source": [
    "fmt.Println(jsonrpc.interface)"
   ]
  },
  {
   "cell_type": "code",
   "execution_count": 8,
   "metadata": {
    "ExecuteTime": {
     "end_time": "2021-12-06T11:30:33Z",
     "start_time": "2021-12-06T11:30:33.087Z"
    }
   },
   "outputs": [],
   "source": [
    "client,error :=jsonrpc.NewClient(\"https://mainnet.infura.io\")"
   ]
  },
  {
   "cell_type": "code",
   "execution_count": 9,
   "metadata": {
    "ExecuteTime": {
     "end_time": "2021-12-06T11:30:43Z",
     "start_time": "2021-12-06T11:30:43.407Z"
    }
   },
   "outputs": [
    {
     "name": "stdout",
     "output_type": "stream",
     "text": [
      "&{0xc0002cbf20 {0xc000288310 0xc000288318 0xc000288320 0xc000288328}}\n"
     ]
    },
    {
     "data": {
      "text/plain": [
       "70 <nil>"
      ]
     },
     "execution_count": 9,
     "metadata": {},
     "output_type": "execute_result"
    }
   ],
   "source": [
    "fmt.Println(client)"
   ]
  },
  {
   "cell_type": "code",
   "execution_count": 10,
   "metadata": {
    "ExecuteTime": {
     "end_time": "2021-12-06T11:31:08Z",
     "start_time": "2021-12-06T11:31:06.004Z"
    }
   },
   "outputs": [
    {
     "data": {
      "text/plain": [
       "0 {\"code\":-32600,\"message\":\"project ID is required\",\"data\":{\"reason\":\"project ID not provided\",\"see\":\"https://infura.io/dashboard\"}}"
      ]
     },
     "execution_count": 10,
     "metadata": {},
     "output_type": "execute_result"
    }
   ],
   "source": [
    "client.Eth().BlockNumber()"
   ]
  },
  {
   "cell_type": "code",
   "execution_count": 12,
   "metadata": {
    "ExecuteTime": {
     "end_time": "2021-12-06T11:34:57Z",
     "start_time": "2021-12-06T11:34:57.386Z"
    }
   },
   "outputs": [
    {
     "ename": "ERROR",
     "evalue": "repl.go:1:9: undefined \"wallet\" in wallet.GenerateKey <*ast.SelectorExpr>",
     "output_type": "error",
     "traceback": [
      "repl.go:1:9: undefined \"wallet\" in wallet.GenerateKey <*ast.SelectorExpr>"
     ]
    }
   ],
   "source": [
    "key,_ :=wallet.GenerateKey()"
   ]
  },
  {
   "cell_type": "code",
   "execution_count": null,
   "metadata": {},
   "outputs": [],
   "source": []
  }
 ],
 "metadata": {
  "kernelspec": {
   "display_name": "Go",
   "language": "go",
   "name": "gophernotes"
  },
  "language_info": {
   "codemirror_mode": "",
   "file_extension": ".go",
   "mimetype": "",
   "name": "go",
   "nbconvert_exporter": "",
   "pygments_lexer": "",
   "version": "go1.17.3"
  }
 },
 "nbformat": 4,
 "nbformat_minor": 2
}
