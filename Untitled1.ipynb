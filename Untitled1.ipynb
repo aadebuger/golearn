{
 "cells": [
  {
   "cell_type": "code",
   "execution_count": 1,
   "metadata": {
    "ExecuteTime": {
     "end_time": "2021-12-06T06:22:23Z",
     "start_time": "2021-12-06T06:22:23.580Z"
    }
   },
   "outputs": [],
   "source": [
    "import \"time\""
   ]
  },
  {
   "cell_type": "code",
   "execution_count": 9,
   "metadata": {
    "ExecuteTime": {
     "end_time": "2021-12-06T06:24:43Z",
     "start_time": "2021-12-06T06:24:43.561Z"
    }
   },
   "outputs": [],
   "source": [
    "timer1 :=time.NewTimer(2*time.Second)"
   ]
  },
  {
   "cell_type": "code",
   "execution_count": 10,
   "metadata": {
    "ExecuteTime": {
     "end_time": "2021-12-06T06:24:44Z",
     "start_time": "2021-12-06T06:24:44.421Z"
    }
   },
   "outputs": [
    {
     "ename": "ERROR",
     "evalue": "repl.go:1:1: not a package: \"time1\" in time1.Sleep <*ast.SelectorExpr>",
     "output_type": "error",
     "traceback": [
      "repl.go:1:1: not a package: \"time1\" in time1.Sleep <*ast.SelectorExpr>"
     ]
    }
   ],
   "source": [
    "time1.Sleep()"
   ]
  },
  {
   "cell_type": "code",
   "execution_count": 11,
   "metadata": {
    "ExecuteTime": {
     "end_time": "2021-12-06T06:24:45Z",
     "start_time": "2021-12-06T06:24:45.062Z"
    }
   },
   "outputs": [
    {
     "data": {
      "text/plain": [
       "2021-12-06 14:24:45.567082 +0800 CST m=+149.091168199 true"
      ]
     },
     "execution_count": 11,
     "metadata": {},
     "output_type": "execute_result"
    }
   ],
   "source": [
    "<-timer1.C"
   ]
  },
  {
   "cell_type": "code",
   "execution_count": 12,
   "metadata": {
    "ExecuteTime": {
     "end_time": "2021-12-06T06:25:02Z",
     "start_time": "2021-12-06T06:25:02.553Z"
    }
   },
   "outputs": [
    {
     "ename": "ERROR",
     "evalue": "repl.go:1:1: undefined \"fmt\" in fmt.Println <*ast.SelectorExpr>",
     "output_type": "error",
     "traceback": [
      "repl.go:1:1: undefined \"fmt\" in fmt.Println <*ast.SelectorExpr>"
     ]
    }
   ],
   "source": [
    "fmt.Println(\"Timer 1 fired\")"
   ]
  },
  {
   "cell_type": "code",
   "execution_count": 27,
   "metadata": {
    "ExecuteTime": {
     "end_time": "2021-12-06T06:29:40Z",
     "start_time": "2021-12-06T06:29:40.299Z"
    }
   },
   "outputs": [],
   "source": [
    "import (\n",
    "\"time\"\n",
    "\"path/filepath\"\n",
    "\"os\"\n",
    "\"fmt\")"
   ]
  },
  {
   "cell_type": "code",
   "execution_count": 23,
   "metadata": {
    "ExecuteTime": {
     "end_time": "2021-12-06T06:28:17Z",
     "start_time": "2021-12-06T06:28:17.109Z"
    }
   },
   "outputs": [],
   "source": [
    "p := filepath.Join(\"..\")"
   ]
  },
  {
   "cell_type": "code",
   "execution_count": 24,
   "metadata": {
    "ExecuteTime": {
     "end_time": "2021-12-06T06:28:17Z",
     "start_time": "2021-12-06T06:28:17.701Z"
    }
   },
   "outputs": [
    {
     "name": "stdout",
     "output_type": "stream",
     "text": [
      "..\n"
     ]
    },
    {
     "data": {
      "text/plain": [
       "3 <nil>"
      ]
     },
     "execution_count": 24,
     "metadata": {},
     "output_type": "execute_result"
    }
   ],
   "source": [
    "fmt.Println(p)"
   ]
  },
  {
   "cell_type": "code",
   "execution_count": 30,
   "metadata": {
    "ExecuteTime": {
     "end_time": "2021-12-06T06:30:27Z",
     "start_time": "2021-12-06T06:30:27.324Z"
    }
   },
   "outputs": [
    {
     "ename": "ERROR",
     "evalue": "repl.go:1:11: not a type: os.ReadDir <*ast.SelectorExpr>",
     "output_type": "error",
     "traceback": [
      "repl.go:1:11: not a type: os.ReadDir <*ast.SelectorExpr>"
     ]
    }
   ],
   "source": [
    "c, err := os.ReadDir(\".\")"
   ]
  },
  {
   "cell_type": "code",
   "execution_count": 32,
   "metadata": {
    "ExecuteTime": {
     "end_time": "2021-12-06T06:31:48Z",
     "start_time": "2021-12-06T06:31:48.253Z"
    }
   },
   "outputs": [
    {
     "ename": "ERROR",
     "evalue": "repl.go:1:11: not a type: os.ReadDir <*ast.SelectorExpr>",
     "output_type": "error",
     "traceback": [
      "repl.go:1:11: not a type: os.ReadDir <*ast.SelectorExpr>"
     ]
    }
   ],
   "source": [
    "c, err := os.ReadDir(\"subdir/parent\")"
   ]
  },
  {
   "cell_type": "code",
   "execution_count": 33,
   "metadata": {
    "ExecuteTime": {
     "end_time": "2021-12-06T06:32:08Z",
     "start_time": "2021-12-06T06:32:06.687Z"
    }
   },
   "outputs": [
    {
     "name": "stdout",
     "output_type": "stream",
     "text": [
      "{os \"os\", 95 binds, 10 types}\n"
     ]
    },
    {
     "data": {
      "text/plain": [
       "30 <nil>"
      ]
     },
     "execution_count": 33,
     "metadata": {},
     "output_type": "execute_result"
    }
   ],
   "source": [
    "fmt.Println(os)"
   ]
  },
  {
   "cell_type": "code",
   "execution_count": 34,
   "metadata": {
    "ExecuteTime": {
     "end_time": "2021-12-06T06:32:30Z",
     "start_time": "2021-12-06T06:32:30.874Z"
    }
   },
   "outputs": [],
   "source": [
    "err := os.Mkdir(\"subdir\", 0755)"
   ]
  },
  {
   "cell_type": "code",
   "execution_count": 35,
   "metadata": {
    "ExecuteTime": {
     "end_time": "2021-12-06T06:32:40Z",
     "start_time": "2021-12-06T06:32:40.490Z"
    }
   },
   "outputs": [
    {
     "ename": "ERROR",
     "evalue": "repl.go:1:2: undefined identifier: ls",
     "output_type": "error",
     "traceback": [
      "repl.go:1:2: undefined identifier: ls"
     ]
    }
   ],
   "source": [
    "!ls"
   ]
  },
  {
   "cell_type": "code",
   "execution_count": 36,
   "metadata": {
    "ExecuteTime": {
     "end_time": "2021-12-06T06:33:03Z",
     "start_time": "2021-12-06T06:33:03.335Z"
    }
   },
   "outputs": [
    {
     "name": "stdout",
     "output_type": "stream",
     "text": [
      "<nil>\n"
     ]
    },
    {
     "data": {
      "text/plain": [
       "6 <nil>"
      ]
     },
     "execution_count": 36,
     "metadata": {},
     "output_type": "execute_result"
    }
   ],
   "source": [
    "fmt.Println(err)"
   ]
  },
  {
   "cell_type": "code",
   "execution_count": 40,
   "metadata": {
    "ExecuteTime": {
     "end_time": "2021-12-06T06:38:57Z",
     "start_time": "2021-12-06T06:38:57.387Z"
    }
   },
   "outputs": [
    {
     "ename": "ERROR",
     "evalue": "repl.go:1:1: not a type: os.ReadDir <*ast.SelectorExpr>",
     "output_type": "error",
     "traceback": [
      "repl.go:1:1: not a type: os.ReadDir <*ast.SelectorExpr>"
     ]
    }
   ],
   "source": [
    "os.ReadDir(\"./aa\")"
   ]
  },
  {
   "cell_type": "code",
   "execution_count": null,
   "metadata": {},
   "outputs": [],
   "source": []
  }
 ],
 "metadata": {
  "kernelspec": {
   "display_name": "Go",
   "language": "go",
   "name": "gophernotes"
  },
  "language_info": {
   "codemirror_mode": "",
   "file_extension": ".go",
   "mimetype": "",
   "name": "go",
   "nbconvert_exporter": "",
   "pygments_lexer": "",
   "version": "go1.17.3"
  }
 },
 "nbformat": 4,
 "nbformat_minor": 2
}
