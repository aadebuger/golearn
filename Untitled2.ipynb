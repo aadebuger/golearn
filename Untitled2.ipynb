{
 "cells": [
  {
   "cell_type": "code",
   "execution_count": 2,
   "metadata": {
    "ExecuteTime": {
     "end_time": "2021-12-06T06:40:59Z",
     "start_time": "2021-12-06T06:40:58.955Z"
    }
   },
   "outputs": [],
   "source": [
    "import (\n",
    "    \"bufio\"\n",
    "    \"net/http\"\n",
    "    \"fmt\"\n",
    ")"
   ]
  },
  {
   "cell_type": "code",
   "execution_count": 6,
   "metadata": {
    "ExecuteTime": {
     "end_time": "2021-12-06T06:41:55Z",
     "start_time": "2021-12-06T06:41:55.171Z"
    }
   },
   "outputs": [],
   "source": [
    "resp,err :=http.Get(\"http://www.baidu.com\")"
   ]
  },
  {
   "cell_type": "code",
   "execution_count": 7,
   "metadata": {
    "ExecuteTime": {
     "end_time": "2021-12-06T06:42:02Z",
     "start_time": "2021-12-06T06:42:02.772Z"
    }
   },
   "outputs": [
    {
     "name": "stdout",
     "output_type": "stream",
     "text": [
      "&{200 OK 200 HTTP/1.1 1 1 map[Bdpagetype:[1] Bdqid:[0xccad2ffc0001ef81] Cache-Control:[private] Connection:[keep-alive] Content-Type:[text/html;charset=utf-8] Date:[Mon, 06 Dec 2021 06:41:55 GMT] Expires:[Mon, 06 Dec 2021 06:41:51 GMT] P3p:[CP=\" OTI DSP COR IVA OUR IND COM \" CP=\" OTI DSP COR IVA OUR IND COM \"] Server:[BWS/1.1] Set-Cookie:[BAIDUID=724A4DECF87B879761EF996228F00863:FG=1; expires=Thu, 31-Dec-37 23:55:55 GMT; max-age=2147483647; path=/; domain=.baidu.com BIDUPSID=724A4DECF87B879761EF996228F00863; expires=Thu, 31-Dec-37 23:55:55 GMT; max-age=2147483647; path=/; domain=.baidu.com PSTM=1638772915; expires=Thu, 31-Dec-37 23:55:55 GMT; max-age=2147483647; path=/; domain=.baidu.com BAIDUID=724A4DECF87B8797A65D1B39BFD16270:FG=1; max-age=31536000; expires=Tue, 06-Dec-22 06:41:55 GMT; domain=.baidu.com; path=/; version=1; comment=bd BDSVRTM=0; path=/ BD_HOME=1; path=/ H_PS_PSSID=34447_35104_31254_35239_34584_34518_35234_34578_35329_35316_26350_35313_35301; path=/; domain=.baidu.com] Traceid:[1638772915042253978614748497114086633345] X-Frame-Options:[sameorigin] X-Ua-Compatible:[IE=Edge,chrome=1]] 0xc00031c2c0 -1 [chunked] false true map[] 0xc0001c8900 <nil>}\n"
     ]
    },
    {
     "data": {
      "text/plain": [
       "1180 <nil>"
      ]
     },
     "execution_count": 7,
     "metadata": {},
     "output_type": "execute_result"
    }
   ],
   "source": [
    "fmt.Println(resp)"
   ]
  },
  {
   "cell_type": "code",
   "execution_count": null,
   "metadata": {},
   "outputs": [],
   "source": []
  }
 ],
 "metadata": {
  "kernelspec": {
   "display_name": "Go",
   "language": "go",
   "name": "gophernotes"
  },
  "language_info": {
   "codemirror_mode": "",
   "file_extension": ".go",
   "mimetype": "",
   "name": "go",
   "nbconvert_exporter": "",
   "pygments_lexer": "",
   "version": "go1.17.3"
  }
 },
 "nbformat": 4,
 "nbformat_minor": 2
}
