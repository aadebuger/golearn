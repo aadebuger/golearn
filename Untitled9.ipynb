{
 "cells": [
  {
   "cell_type": "code",
   "execution_count": 1,
   "metadata": {
    "ExecuteTime": {
     "end_time": "2021-12-08T06:01:45Z",
     "start_time": "2021-12-08T06:01:45.326Z"
    }
   },
   "outputs": [],
   "source": [
    "import \"fmt\""
   ]
  },
  {
   "cell_type": "code",
   "execution_count": 4,
   "metadata": {
    "ExecuteTime": {
     "end_time": "2021-12-08T06:02:15Z",
     "start_time": "2021-12-08T06:02:15.098Z"
    }
   },
   "outputs": [],
   "source": [
    "stringv := make([]string,2)"
   ]
  },
  {
   "cell_type": "code",
   "execution_count": 5,
   "metadata": {
    "ExecuteTime": {
     "end_time": "2021-12-08T06:02:22Z",
     "start_time": "2021-12-08T06:02:22.627Z"
    }
   },
   "outputs": [
    {
     "name": "stdout",
     "output_type": "stream",
     "text": [
      "[ ]\n"
     ]
    },
    {
     "data": {
      "text/plain": [
       "4 <nil>"
      ]
     },
     "execution_count": 5,
     "metadata": {},
     "output_type": "execute_result"
    }
   ],
   "source": [
    "fmt.Println(stringv)"
   ]
  },
  {
   "cell_type": "code",
   "execution_count": 6,
   "metadata": {
    "ExecuteTime": {
     "end_time": "2021-12-08T06:02:49Z",
     "start_time": "2021-12-08T06:02:49.903Z"
    }
   },
   "outputs": [],
   "source": [
    "stringv[0]=2"
   ]
  },
  {
   "cell_type": "code",
   "execution_count": 8,
   "metadata": {
    "ExecuteTime": {
     "end_time": "2021-12-08T06:03:01Z",
     "start_time": "2021-12-08T06:03:00.998Z"
    }
   },
   "outputs": [],
   "source": [
    "stringv[1]=3"
   ]
  },
  {
   "cell_type": "code",
   "execution_count": 11,
   "metadata": {
    "ExecuteTime": {
     "end_time": "2021-12-08T06:03:15Z",
     "start_time": "2021-12-08T06:03:15.861Z"
    }
   },
   "outputs": [],
   "source": [
    "stringv[1]=\"aaa\""
   ]
  },
  {
   "cell_type": "code",
   "execution_count": 17,
   "metadata": {
    "ExecuteTime": {
     "end_time": "2021-12-08T06:04:00Z",
     "start_time": "2021-12-08T06:04:00.373Z"
    }
   },
   "outputs": [
    {
     "name": "stdout",
     "output_type": "stream",
     "text": [
      "[\u0002]\n"
     ]
    },
    {
     "data": {
      "text/plain": [
       "4 <nil>"
      ]
     },
     "execution_count": 17,
     "metadata": {},
     "output_type": "execute_result"
    }
   ],
   "source": [
    "fmt.Println(stringv[0:1])"
   ]
  },
  {
   "cell_type": "code",
   "execution_count": 18,
   "metadata": {
    "ExecuteTime": {
     "end_time": "2021-12-08T06:04:15Z",
     "start_time": "2021-12-08T06:04:15.088Z"
    }
   },
   "outputs": [
    {
     "name": "stdout",
     "output_type": "stream",
     "text": [
      "\u0002\n"
     ]
    },
    {
     "data": {
      "text/plain": [
       "2 <nil>"
      ]
     },
     "execution_count": 18,
     "metadata": {},
     "output_type": "execute_result"
    }
   ],
   "source": [
    "fmt.Println(stringv[0])"
   ]
  },
  {
   "cell_type": "code",
   "execution_count": null,
   "metadata": {},
   "outputs": [],
   "source": []
  }
 ],
 "metadata": {
  "kernelspec": {
   "display_name": "Go",
   "language": "go",
   "name": "gophernotes"
  },
  "language_info": {
   "codemirror_mode": "",
   "file_extension": ".go",
   "mimetype": "",
   "name": "go",
   "nbconvert_exporter": "",
   "pygments_lexer": "",
   "version": "go1.17.3"
  }
 },
 "nbformat": 4,
 "nbformat_minor": 2
}
