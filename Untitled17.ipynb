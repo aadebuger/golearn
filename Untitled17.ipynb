{
 "cells": [
  {
   "cell_type": "code",
   "execution_count": 1,
   "metadata": {
    "ExecuteTime": {
     "end_time": "2021-12-13T05:39:54Z",
     "start_time": "2021-12-13T05:39:54.158Z"
    }
   },
   "outputs": [
    {
     "ename": "ERROR",
     "evalue": "unknown special command: \"%env GO111MODULE=on\"\n\navailable special commands (%):\n%cd [path]\n%go111module {on|off}\n%help\n\nexecute shell commands ($): $command [args...]\nexample:\n$ls -l\n",
     "output_type": "error",
     "traceback": [
      "unknown special command: \"%env GO111MODULE=on\"\n\navailable special commands (%):\n%cd [path]\n%go111module {on|off}\n%help\n\nexecute shell commands ($): $command [args...]\nexample:\n$ls -l\n"
     ]
    }
   ],
   "source": [
    "%env GO111MODULE=on"
   ]
  },
  {
   "cell_type": "code",
   "execution_count": 2,
   "metadata": {
    "ExecuteTime": {
     "end_time": "2021-12-13T05:41:01Z",
     "start_time": "2021-12-13T05:41:01.521Z"
    }
   },
   "outputs": [],
   "source": [
    "%go111module on"
   ]
  },
  {
   "cell_type": "code",
   "execution_count": 3,
   "metadata": {
    "ExecuteTime": {
     "end_time": "2021-12-13T05:41:32Z",
     "start_time": "2021-12-13T05:41:32.482Z"
    }
   },
   "outputs": [
    {
     "ename": "ERROR",
     "evalue": "unknown special command: \"%env GOPROXY=https://goproxy.cn\"\n\navailable special commands (%):\n%cd [path]\n%go111module {on|off}\n%help\n\nexecute shell commands ($): $command [args...]\nexample:\n$ls -l\n",
     "output_type": "error",
     "traceback": [
      "unknown special command: \"%env GOPROXY=https://goproxy.cn\"\n\navailable special commands (%):\n%cd [path]\n%go111module {on|off}\n%help\n\nexecute shell commands ($): $command [args...]\nexample:\n$ls -l\n"
     ]
    }
   ],
   "source": [
    "%env GOPROXY=https://goproxy.cn"
   ]
  },
  {
   "cell_type": "code",
   "execution_count": 4,
   "metadata": {
    "ExecuteTime": {
     "end_time": "2021-12-13T05:44:34Z",
     "start_time": "2021-12-13T05:42:01.227Z"
    }
   },
   "outputs": [],
   "source": [
    "import \"github.com/labstack/echo/v4\""
   ]
  },
  {
   "cell_type": "code",
   "execution_count": 5,
   "metadata": {
    "ExecuteTime": {
     "end_time": "2021-12-13T05:47:24Z",
     "start_time": "2021-12-13T05:47:24.048Z"
    }
   },
   "outputs": [],
   "source": [
    "import \"os\""
   ]
  },
  {
   "cell_type": "code",
   "execution_count": 6,
   "metadata": {
    "ExecuteTime": {
     "end_time": "2021-12-13T05:47:55Z",
     "start_time": "2021-12-13T05:47:55.869Z"
    }
   },
   "outputs": [],
   "source": [
    "os.Setenv(\"GOPROXY\", \"https://goproxy.cn\")"
   ]
  },
  {
   "cell_type": "code",
   "execution_count": 7,
   "metadata": {
    "ExecuteTime": {
     "end_time": "2021-12-13T05:49:11Z",
     "start_time": "2021-12-13T05:48:25.480Z"
    }
   },
   "outputs": [],
   "source": [
    "import \"github.com/labstack/echo/v4/middleware\""
   ]
  },
  {
   "cell_type": "code",
   "execution_count": 8,
   "metadata": {
    "ExecuteTime": {
     "end_time": "2021-12-13T05:54:10Z",
     "start_time": "2021-12-13T05:53:41.611Z"
    }
   },
   "outputs": [],
   "source": [
    "import \"github.com/gocarina/gocsv\""
   ]
  },
  {
   "cell_type": "code",
   "execution_count": 9,
   "metadata": {
    "ExecuteTime": {
     "end_time": "2021-12-13T10:01:48Z",
     "start_time": "2021-12-13T10:01:35.234Z"
    }
   },
   "outputs": [],
   "source": [
    "import \"github.com/go-sql-driver/mysql\""
   ]
  },
  {
   "cell_type": "code",
   "execution_count": null,
   "metadata": {},
   "outputs": [],
   "source": []
  }
 ],
 "metadata": {
  "kernelspec": {
   "display_name": "Go",
   "language": "go",
   "name": "gophernotes"
  },
  "language_info": {
   "codemirror_mode": "",
   "file_extension": ".go",
   "mimetype": "",
   "name": "go",
   "nbconvert_exporter": "",
   "pygments_lexer": "",
   "version": "go1.17.3"
  }
 },
 "nbformat": 4,
 "nbformat_minor": 2
}
