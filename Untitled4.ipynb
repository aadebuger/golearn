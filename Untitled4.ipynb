{
 "cells": [
  {
   "cell_type": "code",
   "execution_count": 1,
   "metadata": {
    "ExecuteTime": {
     "end_time": "2021-12-10T03:19:18Z",
     "start_time": "2021-12-10T03:19:18.753Z"
    }
   },
   "outputs": [],
   "source": [
    "type base struct {\n",
    "    name string \n",
    "}"
   ]
  },
  {
   "cell_type": "code",
   "execution_count": 2,
   "metadata": {
    "ExecuteTime": {
     "end_time": "2021-12-10T03:19:19Z",
     "start_time": "2021-12-10T03:19:19.454Z"
    }
   },
   "outputs": [],
   "source": [
    "func (b base) mytest() {\n",
    "    \n",
    "}"
   ]
  },
  {
   "cell_type": "code",
   "execution_count": 3,
   "metadata": {
    "ExecuteTime": {
     "end_time": "2021-12-10T03:19:20Z",
     "start_time": "2021-12-10T03:19:20.327Z"
    }
   },
   "outputs": [],
   "source": [
    "import \"fmt\"\n",
    "import \"time\"\n",
    "func mytest2() {\n",
    "    for i:=0 ; i<=3 ; i++ {\n",
    "        fmt.Println(i)\n",
    "    }\n",
    "}"
   ]
  },
  {
   "cell_type": "code",
   "execution_count": 4,
   "metadata": {
    "ExecuteTime": {
     "end_time": "2021-12-10T03:19:22Z",
     "start_time": "2021-12-10T03:19:21.151Z"
    }
   },
   "outputs": [
    {
     "name": "stdout",
     "output_type": "stream",
     "text": [
      "0\n",
      "1\n",
      "2\n",
      "3\n"
     ]
    }
   ],
   "source": [
    "go mytest2()\n",
    "time.Sleep(time.Second)"
   ]
  },
  {
   "cell_type": "code",
   "execution_count": 14,
   "metadata": {
    "ExecuteTime": {
     "end_time": "2021-12-09T04:48:20Z",
     "start_time": "2021-12-09T04:48:20.205Z"
    }
   },
   "outputs": [],
   "source": [
    "import \"fmt\""
   ]
  },
  {
   "cell_type": "code",
   "execution_count": 15,
   "metadata": {
    "ExecuteTime": {
     "end_time": "2021-12-09T04:49:32Z",
     "start_time": "2021-12-09T04:48:51.895Z"
    }
   },
   "outputs": [],
   "source": [
    "import \"github.com/go-stack/stack\""
   ]
  },
  {
   "cell_type": "code",
   "execution_count": null,
   "metadata": {},
   "outputs": [],
   "source": []
  }
 ],
 "metadata": {
  "kernelspec": {
   "display_name": "Go",
   "language": "go",
   "name": "gophernotes"
  },
  "language_info": {
   "codemirror_mode": "",
   "file_extension": ".go",
   "mimetype": "",
   "name": "go",
   "nbconvert_exporter": "",
   "pygments_lexer": "",
   "version": "go1.17.3"
  }
 },
 "nbformat": 4,
 "nbformat_minor": 2
}
